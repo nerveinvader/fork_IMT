{
 "cells": [
  {
   "cell_type": "markdown",
   "id": "0e0cb06d",
   "metadata": {},
   "source": [
    "### Temporary notebook\n",
    "#### Analysis and Reviewing\n",
    "#### Dataset info:"
   ]
  },
  {
   "cell_type": "code",
   "execution_count": 2,
   "id": "65c11021",
   "metadata": {},
   "outputs": [],
   "source": [
    "import numpy as np\n",
    "import pandas as pd"
   ]
  },
  {
   "cell_type": "code",
   "execution_count": 18,
   "id": "ad2f25c1",
   "metadata": {},
   "outputs": [],
   "source": [
    "DATASET = pd.read_excel(\"../../Datasets/3- Medical_Information_Dataset/MID.xlsx\")"
   ]
  }
 ],
 "metadata": {
  "kernelspec": {
   "display_name": "base",
   "language": "python",
   "name": "python3"
  },
  "language_info": {
   "codemirror_mode": {
    "name": "ipython",
    "version": 3
   },
   "file_extension": ".py",
   "mimetype": "text/x-python",
   "name": "python",
   "nbconvert_exporter": "python",
   "pygments_lexer": "ipython3",
   "version": "3.12.2"
  }
 },
 "nbformat": 4,
 "nbformat_minor": 5
}
